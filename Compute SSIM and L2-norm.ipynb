{
 "cells": [
  {
   "cell_type": "code",
   "execution_count": 3,
   "metadata": {},
   "outputs": [],
   "source": [
    "from skimage.metrics import structural_similarity\n",
    "import numpy as np\n",
    "import natsort\n",
    "import os\n",
    "import cv2"
   ]
  },
  {
   "cell_type": "code",
   "execution_count": 4,
   "metadata": {},
   "outputs": [],
   "source": [
    "def load_filename(path):\n",
    "    dirFiles = os.listdir(path)\n",
    "    for i, file in enumerate(dirFiles):\n",
    "        dirFiles[i] = path + file\n",
    "    return natsort.natsorted(dirFiles ,reverse=False)\n",
    "\n",
    "def load_images(list_path):\n",
    "    img_list = list()\n",
    "    for filename in list_path:\n",
    "        pixels = cv2.imread(filename)\n",
    "        img_list.append(pixels)\n",
    "    return np.asarray(img_list)"
   ]
  },
  {
   "cell_type": "code",
   "execution_count": 5,
   "metadata": {},
   "outputs": [],
   "source": [
    "def compute_l2(imgs1, imgs2):\n",
    "    l2_scores = []\n",
    "    for i in range(len(imgs1)):\n",
    "        score = (np.square(imgs1[i] - imgs2[i])).mean()\n",
    "        l2_scores.append(score)\n",
    "    return np.mean(l2_scores)\n",
    "\n",
    "def compute_ssim(imgs1, imgs2):\n",
    "    ssim_scores = []\n",
    "    for i in range(len(imgs1)):\n",
    "        grayA = cv2.cvtColor(imgs1[i], cv2.COLOR_BGR2GRAY)\n",
    "        grayB = cv2.cvtColor(imgs2[i], cv2.COLOR_BGR2GRAY)\n",
    "        (score, diff) = structural_similarity(grayA, grayB, full=True)\n",
    "        ssim_scores.append(score)\n",
    "    return np.mean(score)"
   ]
  },
  {
   "cell_type": "markdown",
   "metadata": {},
   "source": [
    "## Compute L2-norm and SSIM"
   ]
  },
  {
   "cell_type": "code",
   "execution_count": 6,
   "metadata": {},
   "outputs": [
    {
     "ename": "FileNotFoundError",
     "evalue": "[WinError 3] The system cannot find the path specified: 'Generated Images/Generated_Pixel[1]_Context[0]/'",
     "output_type": "error",
     "traceback": [
      "\u001b[1;31m---------------------------------------------------------------------------\u001b[0m",
      "\u001b[1;31mFileNotFoundError\u001b[0m                         Traceback (most recent call last)",
      "\u001b[1;32m~\\AppData\\Local\\Temp\\ipykernel_11960\\1429555240.py\u001b[0m in \u001b[0;36m<module>\u001b[1;34m\u001b[0m\n\u001b[0;32m      1\u001b[0m \u001b[0mimgs1\u001b[0m \u001b[1;33m=\u001b[0m \u001b[0mload_images\u001b[0m\u001b[1;33m(\u001b[0m\u001b[0mload_filename\u001b[0m\u001b[1;33m(\u001b[0m\u001b[1;34m\"Dataset/CUHK/Testing photo/\"\u001b[0m\u001b[1;33m)\u001b[0m\u001b[1;33m)\u001b[0m\u001b[1;33m\u001b[0m\u001b[1;33m\u001b[0m\u001b[0m\n\u001b[1;32m----> 2\u001b[1;33m \u001b[0mimgs2\u001b[0m \u001b[1;33m=\u001b[0m \u001b[0mload_images\u001b[0m\u001b[1;33m(\u001b[0m\u001b[0mload_filename\u001b[0m\u001b[1;33m(\u001b[0m\u001b[1;34m\"Generated Images/Generated_Pixel[1]_Context[0]/\"\u001b[0m\u001b[1;33m)\u001b[0m\u001b[1;33m)\u001b[0m\u001b[1;33m\u001b[0m\u001b[1;33m\u001b[0m\u001b[0m\n\u001b[0m\u001b[0;32m      3\u001b[0m \u001b[1;33m\u001b[0m\u001b[0m\n\u001b[0;32m      4\u001b[0m \u001b[0ml2\u001b[0m \u001b[1;33m=\u001b[0m \u001b[0mcompute_l2\u001b[0m\u001b[1;33m(\u001b[0m\u001b[0mimgs1\u001b[0m\u001b[1;33m,\u001b[0m \u001b[0mimgs2\u001b[0m\u001b[1;33m)\u001b[0m\u001b[1;33m\u001b[0m\u001b[1;33m\u001b[0m\u001b[0m\n\u001b[0;32m      5\u001b[0m \u001b[0mssim\u001b[0m \u001b[1;33m=\u001b[0m \u001b[0mcompute_ssim\u001b[0m\u001b[1;33m(\u001b[0m\u001b[0mimgs1\u001b[0m\u001b[1;33m,\u001b[0m \u001b[0mimgs2\u001b[0m\u001b[1;33m)\u001b[0m\u001b[1;33m\u001b[0m\u001b[1;33m\u001b[0m\u001b[0m\n",
      "\u001b[1;32m~\\AppData\\Local\\Temp\\ipykernel_11960\\3387993309.py\u001b[0m in \u001b[0;36mload_filename\u001b[1;34m(path)\u001b[0m\n\u001b[0;32m      1\u001b[0m \u001b[1;32mdef\u001b[0m \u001b[0mload_filename\u001b[0m\u001b[1;33m(\u001b[0m\u001b[0mpath\u001b[0m\u001b[1;33m)\u001b[0m\u001b[1;33m:\u001b[0m\u001b[1;33m\u001b[0m\u001b[1;33m\u001b[0m\u001b[0m\n\u001b[1;32m----> 2\u001b[1;33m     \u001b[0mdirFiles\u001b[0m \u001b[1;33m=\u001b[0m \u001b[0mos\u001b[0m\u001b[1;33m.\u001b[0m\u001b[0mlistdir\u001b[0m\u001b[1;33m(\u001b[0m\u001b[0mpath\u001b[0m\u001b[1;33m)\u001b[0m\u001b[1;33m\u001b[0m\u001b[1;33m\u001b[0m\u001b[0m\n\u001b[0m\u001b[0;32m      3\u001b[0m     \u001b[1;32mfor\u001b[0m \u001b[0mi\u001b[0m\u001b[1;33m,\u001b[0m \u001b[0mfile\u001b[0m \u001b[1;32min\u001b[0m \u001b[0menumerate\u001b[0m\u001b[1;33m(\u001b[0m\u001b[0mdirFiles\u001b[0m\u001b[1;33m)\u001b[0m\u001b[1;33m:\u001b[0m\u001b[1;33m\u001b[0m\u001b[1;33m\u001b[0m\u001b[0m\n\u001b[0;32m      4\u001b[0m         \u001b[0mdirFiles\u001b[0m\u001b[1;33m[\u001b[0m\u001b[0mi\u001b[0m\u001b[1;33m]\u001b[0m \u001b[1;33m=\u001b[0m \u001b[0mpath\u001b[0m \u001b[1;33m+\u001b[0m \u001b[0mfile\u001b[0m\u001b[1;33m\u001b[0m\u001b[1;33m\u001b[0m\u001b[0m\n\u001b[0;32m      5\u001b[0m     \u001b[1;32mreturn\u001b[0m \u001b[0mnatsort\u001b[0m\u001b[1;33m.\u001b[0m\u001b[0mnatsorted\u001b[0m\u001b[1;33m(\u001b[0m\u001b[0mdirFiles\u001b[0m \u001b[1;33m,\u001b[0m\u001b[0mreverse\u001b[0m\u001b[1;33m=\u001b[0m\u001b[1;32mFalse\u001b[0m\u001b[1;33m)\u001b[0m\u001b[1;33m\u001b[0m\u001b[1;33m\u001b[0m\u001b[0m\n",
      "\u001b[1;31mFileNotFoundError\u001b[0m: [WinError 3] The system cannot find the path specified: 'Generated Images/Generated_Pixel[1]_Context[0]/'"
     ]
    }
   ],
   "source": [
    "imgs1 = load_images(load_filename(\"Dataset/CUHK/Testing photo/\"))\n",
    "imgs2 = load_images(load_filename(\"Generated Images/Generated_Pixel[1]_Context[0]/\"))\n",
    "\n",
    "l2 = compute_l2(imgs1, imgs2)\n",
    "ssim = compute_ssim(imgs1, imgs2)\n",
    "\n",
    "print(\"Pixel loss weight : 1 - Contextual loss weight : 0 => L2-norm: \" + str(l2) + \" :: SSIM: \" + str(ssim))"
   ]
  },
  {
   "cell_type": "code",
   "execution_count": 5,
   "metadata": {},
   "outputs": [
    {
     "name": "stdout",
     "output_type": "stream",
     "text": [
      "Pixel loss weight : 0.8 - Contextual loss weight : 0.2 => L2-norm: 92.38721946666665 :: SSIM: 0.7712359671590553\n"
     ]
    }
   ],
   "source": [
    "imgs1 = load_images(load_filename(\"Dataset/CUHK/Testing photo/\"))\n",
    "imgs2 = load_images(load_filename(\"Generated Images/Generated_Pixel[08]_Context[02]/\"))\n",
    "\n",
    "l2 = compute_l2(imgs1, imgs2)\n",
    "ssim = compute_ssim(imgs1, imgs2)\n",
    "\n",
    "print(\"Pixel loss weight : 0.8 - Contextual loss weight : 0.2 => L2-norm: \" + str(l2) + \" :: SSIM: \" + str(ssim))"
   ]
  },
  {
   "cell_type": "code",
   "execution_count": 6,
   "metadata": {},
   "outputs": [
    {
     "name": "stdout",
     "output_type": "stream",
     "text": [
      "Pixel loss weight : 0.5 - Contextual loss weight : 0.5 => L2-norm: 93.4520664666667 :: SSIM: 0.7266711360066652\n"
     ]
    }
   ],
   "source": [
    "imgs1 = load_images(load_filename(\"Dataset/CUHK/Testing photo/\"))\n",
    "imgs2 = load_images(load_filename(\"Generated Images/Generated_Pixel[05]_Context[05]/\"))\n",
    "\n",
    "l2 = compute_l2(imgs1, imgs2)\n",
    "ssim = compute_ssim(imgs1, imgs2)\n",
    "\n",
    "print(\"Pixel loss weight : 0.5 - Contextual loss weight : 0.5 => L2-norm: \" + str(l2) + \" :: SSIM: \" + str(ssim))"
   ]
  },
  {
   "cell_type": "code",
   "execution_count": 7,
   "metadata": {},
   "outputs": [
    {
     "name": "stdout",
     "output_type": "stream",
     "text": [
      "Pixel loss weight : 0.2 - Contextual loss weight : 0.8 => L2-norm: 93.62968573333333 :: SSIM: 0.76595402890904\n"
     ]
    }
   ],
   "source": [
    "imgs1 = load_images(load_filename(\"Dataset/CUHK/Testing photo/\"))\n",
    "imgs2 = load_images(load_filename(\"Generated Images/Generated_Pixel[02]_Context[08]/\"))\n",
    "\n",
    "l2 = compute_l2(imgs1, imgs2)\n",
    "ssim = compute_ssim(imgs1, imgs2)\n",
    "\n",
    "print(\"Pixel loss weight : 0.2 - Contextual loss weight : 0.8 => L2-norm: \" + str(l2) + \" :: SSIM: \" + str(ssim))"
   ]
  }
 ],
 "metadata": {
  "kernelspec": {
   "display_name": "Python 3 (ipykernel)",
   "language": "python",
   "name": "python3"
  },
  "language_info": {
   "codemirror_mode": {
    "name": "ipython",
    "version": 3
   },
   "file_extension": ".py",
   "mimetype": "text/x-python",
   "name": "python",
   "nbconvert_exporter": "python",
   "pygments_lexer": "ipython3",
   "version": "3.9.18"
  }
 },
 "nbformat": 4,
 "nbformat_minor": 4
}
